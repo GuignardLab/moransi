{
 "cells": [
  {
   "cell_type": "code",
   "execution_count": null,
   "metadata": {},
   "outputs": [],
   "source": [
    "from _moransi import MoransI\n",
    "\n",
    "test_obj = MoransI(1)\n",
    "print(test_obj.arg)"
   ]
  }
 ],
 "metadata": {
  "language_info": {
   "name": "python"
  }
 },
 "nbformat": 4,
 "nbformat_minor": 2
}
