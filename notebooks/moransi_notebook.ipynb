{
 "cells": [
  {
   "cell_type": "code",
   "execution_count": null,
   "metadata": {},
   "outputs": [],
   "source": [
    "from moransi import morans_i_image, morans_i_adjacency_matrix\n",
    "from scipy.ndimage import generate_binary_structure\n",
    "from libpysal.weights import lat2W\n",
    "import numpy as np\n",
    "import matplotlib.pyplot as plt\n",
    "\n",
    "np.random.seed(0)\n",
    "im_rand = np.random.random((99, 99))\n",
    "\n",
    "im_check = (np.arange(99*99)%2 - 1).reshape(99, -1)\n",
    "\n",
    "im_half = (np.arange(99*99) < 99*99/2 - 1).reshape(99, -1)"
   ]
  },
  {
   "cell_type": "code",
   "execution_count": null,
   "metadata": {},
   "outputs": [],
   "source": [
    "kernel = generate_binary_structure(2, 1)\n",
    "kernel[1, 1] = False\n",
    "morans_i_image(im_rand, kernel=kernel)"
   ]
  },
  {
   "cell_type": "code",
   "execution_count": null,
   "metadata": {},
   "outputs": [],
   "source": [
    "adj_mat = np.zeros((np.prod(im_rand.shape), )*2)\n",
    "W = lat2W(*im_rand.shape)\n",
    "adj_mat = W.full()[0].astype(bool)\n",
    "metric = im_rand.flatten()\n",
    "del W\n",
    "morans_i_adjacency_matrix(adj_mat, metric)"
   ]
  },
  {
   "cell_type": "code",
   "execution_count": null,
   "metadata": {},
   "outputs": [],
   "source": [
    "kernel = generate_binary_structure(2, 1)\n",
    "kernel[1, 1] = False\n",
    "morans_i_image(im_check, kernel=kernel)"
   ]
  },
  {
   "cell_type": "code",
   "execution_count": null,
   "metadata": {},
   "outputs": [],
   "source": [
    "adj_mat = np.zeros((np.prod(im_check.shape), )*2)\n",
    "W = lat2W(*im_check.shape)\n",
    "adj_mat = W.full()[0].astype(bool)\n",
    "metric = im_check.flatten()\n",
    "del W\n",
    "morans_i_adjacency_matrix(adj_mat, metric)"
   ]
  },
  {
   "cell_type": "code",
   "execution_count": null,
   "metadata": {},
   "outputs": [],
   "source": [
    "kernel = [\n",
    "    [1, 0, 1],\n",
    "    [0, 0, 0],\n",
    "    [1, 0, 1],\n",
    "]\n",
    "morans_i_image(im_check, kernel=kernel)"
   ]
  },
  {
   "cell_type": "code",
   "execution_count": null,
   "metadata": {},
   "outputs": [],
   "source": [
    "kernel = generate_binary_structure(2, 1)\n",
    "kernel[1, 1] = False\n",
    "morans_i_image(im_half, kernel=kernel)"
   ]
  },
  {
   "cell_type": "code",
   "execution_count": null,
   "metadata": {},
   "outputs": [],
   "source": [
    "adj_mat = np.zeros((np.prod(im_half.shape), )*2)\n",
    "W = lat2W(*im_half.shape)\n",
    "adj_mat = W.full()[0].astype(bool)\n",
    "metric = im_half.flatten()\n",
    "del W\n",
    "morans_i_adjacency_matrix(adj_mat, metric)"
   ]
  }
 ],
 "metadata": {
  "kernelspec": {
   "display_name": "sandbox",
   "language": "python",
   "name": "python3"
  },
  "language_info": {
   "codemirror_mode": {
    "name": "ipython",
    "version": 3
   },
   "file_extension": ".py",
   "mimetype": "text/x-python",
   "name": "python",
   "nbconvert_exporter": "python",
   "pygments_lexer": "ipython3",
   "version": "3.12.3"
  }
 },
 "nbformat": 4,
 "nbformat_minor": 2
}
